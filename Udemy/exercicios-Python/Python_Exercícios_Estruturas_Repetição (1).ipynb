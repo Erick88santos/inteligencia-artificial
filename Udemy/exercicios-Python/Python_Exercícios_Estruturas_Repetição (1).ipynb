{
  "nbformat": 4,
  "nbformat_minor": 0,
  "metadata": {
    "colab": {
      "provenance": []
    },
    "kernelspec": {
      "name": "python3",
      "display_name": "Python 3"
    }
  },
  "cells": [
    {
      "cell_type": "markdown",
      "metadata": {
        "id": "c9BudZ2gNE2n"
      },
      "source": [
        "# Exercício 1\n",
        "\n",
        "Ler 5 notas e informar a média\n"
      ]
    },
    {
      "cell_type": "markdown",
      "metadata": {
        "id": "RFJ-2UWJSviN"
      },
      "source": [
        "## For"
      ]
    },
    {
      "cell_type": "code",
      "metadata": {
        "id": "SVlPSs0oS1XU"
      },
      "source": [
        "nota = media = soma = 0"
      ],
      "execution_count": 26,
      "outputs": []
    },
    {
      "cell_type": "code",
      "metadata": {
        "id": "PcZJcwYxbUmG",
        "colab": {
          "base_uri": "https://localhost:8080/"
        },
        "outputId": "404769a1-0cd1-4424-ef19-ab4b404b17f0"
      },
      "source": [
        "print(soma)"
      ],
      "execution_count": 27,
      "outputs": [
        {
          "output_type": "stream",
          "name": "stdout",
          "text": [
            "0\n"
          ]
        }
      ]
    },
    {
      "cell_type": "code",
      "metadata": {
        "id": "H77cGoceod5M",
        "colab": {
          "base_uri": "https://localhost:8080/"
        },
        "outputId": "d7ff762d-c6f3-4244-fc80-87aa94b15b4d"
      },
      "source": [
        "print(nota, media, soma)"
      ],
      "execution_count": 28,
      "outputs": [
        {
          "output_type": "stream",
          "name": "stdout",
          "text": [
            "0 0 0\n"
          ]
        }
      ]
    },
    {
      "cell_type": "code",
      "metadata": {
        "id": "y69_FUgZTFAa",
        "colab": {
          "base_uri": "https://localhost:8080/"
        },
        "outputId": "c4f25344-c819-4572-b389-778f2c9fd4aa"
      },
      "source": [
        "for _ in range(1, 6):\n",
        "  nota = float(input('Digite a nota '))\n",
        "  soma += nota"
      ],
      "execution_count": 29,
      "outputs": [
        {
          "name": "stdout",
          "output_type": "stream",
          "text": [
            "Digite a nota 6\n",
            "Digite a nota 6\n",
            "Digite a nota 6\n",
            "Digite a nota 6\n",
            "Digite a nota 5\n"
          ]
        }
      ]
    },
    {
      "cell_type": "code",
      "metadata": {
        "id": "EfSe5EF6bYCA",
        "colab": {
          "base_uri": "https://localhost:8080/"
        },
        "outputId": "db3cbc9a-fb04-46ef-b612-b9d37aff6828"
      },
      "source": [
        "media = soma / 5\n",
        "print('A média é ', media)"
      ],
      "execution_count": 30,
      "outputs": [
        {
          "output_type": "stream",
          "name": "stdout",
          "text": [
            "A média é  5.8\n"
          ]
        }
      ]
    },
    {
      "cell_type": "markdown",
      "metadata": {
        "id": "-44bufKRbeBf"
      },
      "source": [
        "## While"
      ]
    },
    {
      "cell_type": "code",
      "metadata": {
        "id": "5O23ONtfbf9w",
        "colab": {
          "base_uri": "https://localhost:8080/"
        },
        "outputId": "f1e7b286-3d9c-4da8-d63b-1d1e6374f268"
      },
      "source": [
        "nota = soma = 0\n",
        "numero = 1\n",
        "while numero <= 5:\n",
        "  nota = float(input('Digite a nota:'))\n",
        "  soma += nota\n",
        "  numero += 1\n",
        "print('A média é ', soma / 5)"
      ],
      "execution_count": 13,
      "outputs": [
        {
          "output_type": "stream",
          "name": "stdout",
          "text": [
            "Digite a nota:4\n",
            "Digite a nota:9\n",
            "Digite a nota:8\n",
            "Digite a nota:7\n",
            "Digite a nota:6\n",
            "A média é  6.8\n"
          ]
        }
      ]
    },
    {
      "cell_type": "markdown",
      "metadata": {
        "id": "QK3YAlgdN0t3"
      },
      "source": [
        "# Exercício 2\n",
        "\n",
        "Imprimir a tabuada do número 3 (3 x 1 = 1 - 3 x 10 = 30)\n"
      ]
    },
    {
      "cell_type": "markdown",
      "metadata": {
        "id": "DgR_HhoqcKlH"
      },
      "source": [
        "## For"
      ]
    },
    {
      "cell_type": "code",
      "metadata": {
        "id": "17IiwQLVcKM1",
        "colab": {
          "base_uri": "https://localhost:8080/"
        },
        "outputId": "4b06a9f0-74c5-4c34-e3ce-f51ac38a1aa5"
      },
      "source": [
        "for i in range(1, 11):\n",
        "  print('3 x {} = {}'.format(i, 3 * i))"
      ],
      "execution_count": 14,
      "outputs": [
        {
          "output_type": "stream",
          "name": "stdout",
          "text": [
            "3 x 1 = 3\n",
            "3 x 2 = 6\n",
            "3 x 3 = 9\n",
            "3 x 4 = 12\n",
            "3 x 5 = 15\n",
            "3 x 6 = 18\n",
            "3 x 7 = 21\n",
            "3 x 8 = 24\n",
            "3 x 9 = 27\n",
            "3 x 10 = 30\n"
          ]
        }
      ]
    },
    {
      "cell_type": "markdown",
      "metadata": {
        "id": "7HRSb00ycuip"
      },
      "source": [
        "## While"
      ]
    },
    {
      "cell_type": "code",
      "metadata": {
        "id": "rR51zPtEcuKg",
        "colab": {
          "base_uri": "https://localhost:8080/"
        },
        "outputId": "df4ee9a2-74fe-497f-ea62-01315dee387a"
      },
      "source": [
        "numero = 1\n",
        "while numero <= 10:\n",
        "  print('3 x {} = {}'.format(numero, 3 * numero))\n",
        "  numero += 1"
      ],
      "execution_count": 16,
      "outputs": [
        {
          "output_type": "stream",
          "name": "stdout",
          "text": [
            "3 x 1 = 3\n",
            "3 x 2 = 6\n",
            "3 x 3 = 9\n",
            "3 x 4 = 12\n",
            "3 x 5 = 15\n",
            "3 x 6 = 18\n",
            "3 x 7 = 21\n",
            "3 x 8 = 24\n",
            "3 x 9 = 27\n",
            "3 x 10 = 30\n"
          ]
        }
      ]
    }
  ]
}