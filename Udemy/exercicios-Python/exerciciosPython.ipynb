{
  "nbformat": 4,
  "nbformat_minor": 0,
  "metadata": {
    "colab": {
      "provenance": []
    },
    "kernelspec": {
      "name": "python3",
      "display_name": "Python 3"
    },
    "language_info": {
      "name": "python"
    }
  },
  "cells": [
    {
      "cell_type": "markdown",
      "source": [
        "Olá!\n",
        "\n",
        "Para revisar o conteúdo prático visto até agora, você agora pode resolver dois exercícios. Logo em seguida você pode acessar a aula em vídeo com a solução\n",
        "\n",
        "1 Ler dois números inteiros, executar e mostrar o resultado das seguintes operações: adição, subtração, multiplicação e divisão\n"
      ],
      "metadata": {
        "id": "k_8OKgdZwRw2"
      }
    },
    {
      "cell_type": "code",
      "source": [
        "n1 = int(input(\"Digite o número a caucular: \"))\n",
        "\n",
        "n2 = int(input(\"Digite o número para fazer a operação: \"))\n",
        "\n",
        "soma = n1 + n2\n",
        "\n",
        "print(soma)"
      ],
      "metadata": {
        "colab": {
          "base_uri": "https://localhost:8080/"
        },
        "id": "85psRtKuwKEx",
        "outputId": "b6d6321a-b6c1-4c05-93a8-1fcde8fdef68"
      },
      "execution_count": 12,
      "outputs": [
        {
          "output_type": "stream",
          "name": "stdout",
          "text": [
            "Digite o número a caucular: 33\n",
            "Digite o número para fazer a operação: 57\n",
            "90\n"
          ]
        }
      ]
    },
    {
      "cell_type": "code",
      "source": [
        "n1 = int(input(\"Digite o número a caucular: \"))\n",
        "\n",
        "n2 = int(input(\"Digite o número para fazer a operação: \"))\n",
        "\n",
        "subtracao = n1-n2\n",
        "\n",
        "print(subtracao)"
      ],
      "metadata": {
        "colab": {
          "base_uri": "https://localhost:8080/"
        },
        "id": "fJ1P9hN2w9PD",
        "outputId": "ef7d3466-379a-46e1-c374-50d9531699d8"
      },
      "execution_count": 13,
      "outputs": [
        {
          "output_type": "stream",
          "name": "stdout",
          "text": [
            "Digite o número a caucular: 33\n",
            "Digite o número para fazer a operação: 4\n",
            "29\n"
          ]
        }
      ]
    },
    {
      "cell_type": "code",
      "source": [
        "n1 = int(input(\"Digite o número a caucular: \"))\n",
        "\n",
        "n2 = int(input(\"Digite o número para fazer a operação: \"))\n",
        "\n",
        "divisao = n1 / n2\n",
        "\n",
        "print(divisao)"
      ],
      "metadata": {
        "colab": {
          "base_uri": "https://localhost:8080/"
        },
        "id": "daVS_-6AxIos",
        "outputId": "04c94ddb-b264-47af-d4b1-2d55481b6182"
      },
      "execution_count": 14,
      "outputs": [
        {
          "output_type": "stream",
          "name": "stdout",
          "text": [
            "Digite o número a caucular: 100\n",
            "Digite o número para fazer a operação: 5\n",
            "20.0\n"
          ]
        }
      ]
    },
    {
      "cell_type": "code",
      "source": [
        "n1 = int(input(\"Digite o número a caucular: \"))\n",
        "\n",
        "n2 = int(input(\"Digite o número para fazer a operação: \"))\n",
        "\n",
        "multiplicacao = n1 * n2\n",
        "\n",
        "print(multiplicacao)"
      ],
      "metadata": {
        "colab": {
          "base_uri": "https://localhost:8080/"
        },
        "id": "D_3FFNZ8xXkZ",
        "outputId": "78e9f1c8-c064-466b-d09e-030665c7cd59"
      },
      "execution_count": 15,
      "outputs": [
        {
          "output_type": "stream",
          "name": "stdout",
          "text": [
            "Digite o número a caucular: 200\n",
            "Digite o número para fazer a operação: 3\n",
            "600\n"
          ]
        }
      ]
    },
    {
      "cell_type": "markdown",
      "source": [
        "\n",
        "2 Efetuar o cálculo da quantidade de litros de combustível gasto em uma viagem, utilizando um automóvel que faz 12 Km por litro. Para obter o cálculo, o usuário deve fornecer o tempo gasto na viagem e a velocidade média durante ela. Desta forma, será possível obter a distância percorrida com a fórmula DISTANCIA = TEMPO * VELOCIDADE. Tendo o valor da distância, basta calcular a quantidade de litros de combustível utilizada na viagem, com a fórmula: LITROS_USADOS = DISTANCIA / 12. O programa deve apresentar os valores da velocidade média, tempo gasto na viagem, a distância percorrida e a quantidade de litros utilizada na viagem\n",
        "\n",
        "Bom trabalho."
      ],
      "metadata": {
        "id": "PMWwd-6UyuOK"
      }
    },
    {
      "cell_type": "code",
      "source": [
        "km_l = 12\n",
        "\n",
        "tempo = int(input(\"Tempo de viagem: \"))\n",
        "velocidade_media = int(input(\"Velocidade média: \"))\n",
        "\n",
        "distancia = tempo * velocidade_media\n",
        "\n",
        "print(f\"Distância da viagem é {distancia}km\")"
      ],
      "metadata": {
        "colab": {
          "base_uri": "https://localhost:8080/"
        },
        "id": "7NvLwYR4ywd0",
        "outputId": "3cfe96d0-1875-4a2d-cbc2-01982cce5048"
      },
      "execution_count": 17,
      "outputs": [
        {
          "output_type": "stream",
          "name": "stdout",
          "text": [
            "Tempo de viagem: 1\n",
            "Velocidade média: 98\n",
            "Distância da viagem é 98 km\n"
          ]
        }
      ]
    },
    {
      "cell_type": "code",
      "source": [
        "litros_usados = distancia / km_l\n",
        "\n",
        "print(f\"Tempo de viagem foi {tempo}h, A velocidade média foi {velocidade_media}km/h e a distância da viagem foi {distancia}km\")\n"
      ],
      "metadata": {
        "id": "jOxYrBG_47tB"
      },
      "execution_count": null,
      "outputs": []
    }
  ]
}