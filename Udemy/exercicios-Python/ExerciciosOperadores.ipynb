{
  "nbformat": 4,
  "nbformat_minor": 0,
  "metadata": {
    "colab": {
      "provenance": []
    },
    "kernelspec": {
      "name": "python3",
      "display_name": "Python 3"
    },
    "language_info": {
      "name": "python"
    }
  },
  "cells": [
    {
      "cell_type": "markdown",
      "source": [
        "#Exercício 1"
      ],
      "metadata": {
        "id": "GEXkMhBccWxT"
      }
    },
    {
      "cell_type": "code",
      "execution_count": 4,
      "metadata": {
        "colab": {
          "base_uri": "https://localhost:8080/"
        },
        "id": "2E8MfNVHbwdH",
        "outputId": "203ec2fc-1ba3-4797-f3c1-c43a2be24c6e"
      },
      "outputs": [
        {
          "output_type": "stream",
          "name": "stdout",
          "text": [
            "Qual sua idade: 18\n",
            "Se voçê tem 18 anos, então é um Adulto\n"
          ]
        }
      ],
      "source": [
        "idade = int(input('Qual sua idade: '))\n",
        "if (idade <= 12):\n",
        "  print(f\"Se voçê tem {idade} anos, então é Criança\")\n",
        "elif (idade >= 18):\n",
        "  print(f\"Se voçê tem {idade} anos, então é um Adulto\")\n",
        "else:\n",
        "  print(f\"Se voçê tem {idade} anos, então é Adolescente\") "
      ]
    },
    {
      "cell_type": "markdown",
      "source": [
        "# Exercício 2"
      ],
      "metadata": {
        "id": "Uo79ejDucZzH"
      }
    },
    {
      "cell_type": "code",
      "source": [
        "m1 = int(input(\"Nota 1: \"))\n",
        "m2 = int(input(\"Nota 2: \"))\n",
        "m3 = int(input(\"Nota 3: \"))\n",
        "\n",
        "notafinal = (m1 + m2 + m3)/3\n",
        "\n",
        "print(f'A nota média do aluno na disciplina de Programação1 foi = {notafinal}')\n",
        "\n",
        "if(notafinal <= 4):\n",
        "  print(f\"O aluno obteve a média = {notafinal} e está REPROVADO\")\n",
        "elif(notafinal == 6):\n",
        "  print(f\"O aluno obteve a média = {notafinal} e está RECUPERAÇÃO\")\n",
        "else:\n",
        "  print(f\"O aluno obteve a média = {notafinal} e está APROVADO\")"
      ],
      "metadata": {
        "colab": {
          "base_uri": "https://localhost:8080/"
        },
        "id": "u8o2p2fqcch_",
        "outputId": "3e086bcf-901e-4607-d000-8a33542711cc"
      },
      "execution_count": 5,
      "outputs": [
        {
          "output_type": "stream",
          "name": "stdout",
          "text": [
            "Nota 1: 5\n",
            "Nota 2: 6\n",
            "Nota 3: 10\n",
            "A nota média do aluno na disciplina de Programação1 foi = 7.0\n",
            "O aluno obteve a média = 7.0 e está APROVADO\n"
          ]
        }
      ]
    }
  ]
}