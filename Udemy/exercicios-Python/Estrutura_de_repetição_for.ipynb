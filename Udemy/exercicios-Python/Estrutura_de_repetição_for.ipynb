{
  "nbformat": 4,
  "nbformat_minor": 0,
  "metadata": {
    "colab": {
      "provenance": []
    },
    "kernelspec": {
      "name": "python3",
      "display_name": "Python 3"
    }
  },
  "cells": [
    {
      "cell_type": "markdown",
      "metadata": {
        "id": "5hg58pyZe2oS"
      },
      "source": [
        "# Estruturas de repetição - for"
      ]
    },
    {
      "cell_type": "code",
      "metadata": {
        "id": "Vqvjpfi6e_L-",
        "colab": {
          "base_uri": "https://localhost:8080/",
          "height": 101
        },
        "outputId": "b5e88e15-3f0c-46cc-b90c-6c413f356d57"
      },
      "source": [
        "print(1)\n",
        "print(2)\n",
        "print(3)\n",
        "print(4)\n",
        "print(5)"
      ],
      "execution_count": null,
      "outputs": [
        {
          "output_type": "stream",
          "text": [
            "1\n",
            "2\n",
            "3\n",
            "4\n",
            "5\n"
          ],
          "name": "stdout"
        }
      ]
    },
    {
      "cell_type": "markdown",
      "source": [
        "#Lista"
      ],
      "metadata": {
        "id": "1u7u2TVZoFt7"
      }
    },
    {
      "cell_type": "code",
      "source": [
        "for numero in range(1, 11,):\n",
        "  print(numero)"
      ],
      "metadata": {
        "id": "bkQOHb30oNaM",
        "outputId": "9190208c-8b2f-4c20-c147-dd7034e1c45d",
        "colab": {
          "base_uri": "https://localhost:8080/"
        }
      },
      "execution_count": 14,
      "outputs": [
        {
          "output_type": "stream",
          "name": "stdout",
          "text": [
            "1\n",
            "2\n",
            "3\n",
            "4\n",
            "5\n",
            "6\n",
            "7\n",
            "8\n",
            "9\n",
            "10\n"
          ]
        }
      ]
    },
    {
      "cell_type": "markdown",
      "source": [
        "# Contágem de lista de 3 em 3 números"
      ],
      "metadata": {
        "id": "Pni85ECtoRzi"
      }
    },
    {
      "cell_type": "code",
      "metadata": {
        "id": "c2iluHyETYEU",
        "colab": {
          "base_uri": "https://localhost:8080/"
        },
        "outputId": "212501b4-2e85-4775-ae81-3f507e6a5b94"
      },
      "source": [
        "for numero in range(1, 11, 3):\n",
        "  print(numero)"
      ],
      "execution_count": 8,
      "outputs": [
        {
          "output_type": "stream",
          "name": "stdout",
          "text": [
            "1\n",
            "4\n",
            "7\n",
            "10\n"
          ]
        }
      ]
    },
    {
      "cell_type": "markdown",
      "source": [
        "# Contágem regressiva de lista "
      ],
      "metadata": {
        "id": "yBQwlkEfoinw"
      }
    },
    {
      "cell_type": "code",
      "metadata": {
        "id": "P7NuY7N4TxMK",
        "colab": {
          "base_uri": "https://localhost:8080/"
        },
        "outputId": "15ff9c8f-fe89-4f3a-c591-d3bce1dbbe5e"
      },
      "source": [
        "for numero in range(5, 0, -1):\n",
        "  print(numero)"
      ],
      "execution_count": 4,
      "outputs": [
        {
          "output_type": "stream",
          "name": "stdout",
          "text": [
            "5\n",
            "4\n",
            "3\n",
            "2\n",
            "1\n"
          ]
        }
      ]
    },
    {
      "cell_type": "markdown",
      "source": [
        "# Soma de lista "
      ],
      "metadata": {
        "id": "meGNklbsooyr"
      }
    },
    {
      "cell_type": "code",
      "metadata": {
        "id": "Tte1Ylh6UAtK",
        "colab": {
          "base_uri": "https://localhost:8080/"
        },
        "outputId": "1dcc56a3-3275-4a75-da1e-ac53d1ddc6d6"
      },
      "source": [
        "5 + 4 + 3 + 2 + 1"
      ],
      "execution_count": 9,
      "outputs": [
        {
          "output_type": "execute_result",
          "data": {
            "text/plain": [
              "15"
            ]
          },
          "metadata": {},
          "execution_count": 9
        }
      ]
    },
    {
      "cell_type": "code",
      "metadata": {
        "id": "H5x4zHkfUFmb",
        "colab": {
          "base_uri": "https://localhost:8080/"
        },
        "outputId": "e4df1188-08b9-48db-8594-f6da2302a737"
      },
      "source": [
        "soma = 0\n",
        "for numero in range(1, 6):\n",
        "  soma = soma + numero\n",
        "  print(soma)\n",
        "\n",
        "print(soma)"
      ],
      "execution_count": 18,
      "outputs": [
        {
          "output_type": "stream",
          "name": "stdout",
          "text": [
            "1\n",
            "3\n",
            "6\n",
            "10\n",
            "15\n",
            "15\n"
          ]
        }
      ]
    },
    {
      "cell_type": "code",
      "metadata": {
        "id": "JZnG40IVUnwn",
        "colab": {
          "base_uri": "https://localhost:8080/"
        },
        "outputId": "959a6d8d-976a-43d5-de68-704f83a4f165"
      },
      "source": [
        "palavra = 'sorvete'\n",
        "for letra in palavra:\n",
        "  print(letra)\n",
        "  if letra == 's':\n",
        "    print('Achou a letra s')"
      ],
      "execution_count": 23,
      "outputs": [
        {
          "output_type": "stream",
          "name": "stdout",
          "text": [
            "s\n",
            "Achou a letra s\n",
            "o\n",
            "r\n",
            "v\n",
            "e\n",
            "t\n",
            "e\n"
          ]
        }
      ]
    },
    {
      "cell_type": "markdown",
      "source": [
        "# Lista separada"
      ],
      "metadata": {
        "id": "qRYqtGYvqN7a"
      }
    },
    {
      "cell_type": "code",
      "source": [
        "for i in range(0,6):\n",
        "  print(i)\n",
        "  print(\"---\")"
      ],
      "metadata": {
        "id": "YU4EJ5grp8jO",
        "outputId": "bd3efdc6-4fcf-44d6-e67e-2919edd15eab",
        "colab": {
          "base_uri": "https://localhost:8080/"
        }
      },
      "execution_count": 26,
      "outputs": [
        {
          "output_type": "stream",
          "name": "stdout",
          "text": [
            "0\n",
            "---\n",
            "1\n",
            "---\n",
            "2\n",
            "---\n",
            "3\n",
            "---\n",
            "4\n",
            "---\n",
            "5\n",
            "---\n"
          ]
        }
      ]
    },
    {
      "cell_type": "markdown",
      "source": [
        "# Contando lista separada "
      ],
      "metadata": {
        "id": "_xguqpAxqRZb"
      }
    },
    {
      "cell_type": "code",
      "metadata": {
        "id": "UXEE2wmwVMBq",
        "colab": {
          "base_uri": "https://localhost:8080/"
        },
        "outputId": "068fc8d5-bc5c-4cb8-c4ad-26048289be92"
      },
      "source": [
        "for i in range(0,5):\n",
        "  print(i)\n",
        "  print('---')\n",
        "  for j in range(0,3):\n",
        "    print(j)\n",
        "  print()"
      ],
      "execution_count": 24,
      "outputs": [
        {
          "output_type": "stream",
          "name": "stdout",
          "text": [
            "0\n",
            "---\n",
            "0\n",
            "1\n",
            "2\n",
            "\n",
            "1\n",
            "---\n",
            "0\n",
            "1\n",
            "2\n",
            "\n",
            "2\n",
            "---\n",
            "0\n",
            "1\n",
            "2\n",
            "\n",
            "3\n",
            "---\n",
            "0\n",
            "1\n",
            "2\n",
            "\n",
            "4\n",
            "---\n",
            "0\n",
            "1\n",
            "2\n",
            "\n"
          ]
        }
      ]
    }
  ]
}