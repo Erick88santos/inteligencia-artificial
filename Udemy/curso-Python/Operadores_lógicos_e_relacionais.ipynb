{
  "nbformat": 4,
  "nbformat_minor": 0,
  "metadata": {
    "colab": {
      "provenance": []
    },
    "kernelspec": {
      "name": "python3",
      "display_name": "Python 3"
    }
  },
  "cells": [
    {
      "cell_type": "markdown",
      "metadata": {
        "id": "GY09z1-ia5g8"
      },
      "source": [
        "# Operadores lógicos e relacionais\n",
        "\n",
        "\n"
      ]
    },
    {
      "cell_type": "markdown",
      "metadata": {
        "id": "HI4JJHvBa8vR"
      },
      "source": [
        "## Operadores lógicos"
      ]
    },
    {
      "cell_type": "code",
      "metadata": {
        "id": "rzfRhacJ5SKw"
      },
      "source": [
        "a = True\n",
        "b = False"
      ],
      "execution_count": 1,
      "outputs": []
    },
    {
      "cell_type": "code",
      "metadata": {
        "id": "4X7HAtz65dax",
        "colab": {
          "base_uri": "https://localhost:8080/"
        },
        "outputId": "a3f37808-4eb8-4b41-a9ac-ac827e2e3fb8"
      },
      "source": [
        "print(a, b)"
      ],
      "execution_count": 2,
      "outputs": [
        {
          "output_type": "stream",
          "name": "stdout",
          "text": [
            "True False\n"
          ]
        }
      ]
    },
    {
      "cell_type": "code",
      "metadata": {
        "id": "etBezuil5j5w",
        "colab": {
          "base_uri": "https://localhost:8080/"
        },
        "outputId": "fa8e0a2b-afcc-44e4-94f2-13068999dff6"
      },
      "source": [
        "a and b"
      ],
      "execution_count": 3,
      "outputs": [
        {
          "output_type": "execute_result",
          "data": {
            "text/plain": [
              "False"
            ]
          },
          "metadata": {},
          "execution_count": 3
        }
      ]
    },
    {
      "cell_type": "code",
      "metadata": {
        "id": "UtWISDG45rdf",
        "colab": {
          "base_uri": "https://localhost:8080/"
        },
        "outputId": "134209b9-9243-4f6b-8bdd-c18a1670298a"
      },
      "source": [
        "a & b"
      ],
      "execution_count": 4,
      "outputs": [
        {
          "output_type": "execute_result",
          "data": {
            "text/plain": [
              "False"
            ]
          },
          "metadata": {},
          "execution_count": 4
        }
      ]
    },
    {
      "cell_type": "code",
      "metadata": {
        "id": "V5z_jiGH5zpJ",
        "colab": {
          "base_uri": "https://localhost:8080/"
        },
        "outputId": "033605dd-e45c-4c25-cbd9-ec64b9f9a1dd"
      },
      "source": [
        "c = a and b\n",
        "print(\"'A' e 'B' são iguais é\", c)"
      ],
      "execution_count": 5,
      "outputs": [
        {
          "output_type": "stream",
          "name": "stdout",
          "text": [
            "'A' e 'B' são iguais é False\n"
          ]
        }
      ]
    },
    {
      "cell_type": "code",
      "metadata": {
        "id": "pYv-F6Uo6Jik",
        "colab": {
          "base_uri": "https://localhost:8080/"
        },
        "outputId": "1aefc99b-5c36-4fdf-e92b-ca044e03a629"
      },
      "source": [
        "a or b"
      ],
      "execution_count": 6,
      "outputs": [
        {
          "output_type": "execute_result",
          "data": {
            "text/plain": [
              "True"
            ]
          },
          "metadata": {},
          "execution_count": 6
        }
      ]
    },
    {
      "cell_type": "code",
      "metadata": {
        "id": "IX_vZaDm6Pwf",
        "colab": {
          "base_uri": "https://localhost:8080/"
        },
        "outputId": "2ede5a99-0dbe-431e-f172-81988145617e"
      },
      "source": [
        "a | b"
      ],
      "execution_count": 7,
      "outputs": [
        {
          "output_type": "execute_result",
          "data": {
            "text/plain": [
              "True"
            ]
          },
          "metadata": {},
          "execution_count": 7
        }
      ]
    },
    {
      "cell_type": "code",
      "metadata": {
        "id": "TtqH9SuN6WYc",
        "colab": {
          "base_uri": "https://localhost:8080/"
        },
        "outputId": "8273d393-c68b-40de-8d47-edc49eadefa0"
      },
      "source": [
        "d = a or b\n",
        "print(\"'A' ou 'B' é igual a\", d)"
      ],
      "execution_count": 8,
      "outputs": [
        {
          "output_type": "stream",
          "name": "stdout",
          "text": [
            "'A' ou 'B' é igual a True\n"
          ]
        }
      ]
    },
    {
      "cell_type": "code",
      "metadata": {
        "id": "pEfaRFzZ6fNZ",
        "colab": {
          "base_uri": "https://localhost:8080/"
        },
        "outputId": "1e197cee-e5ed-4dc7-8cef-6634cfebbab2"
      },
      "source": [
        "not a"
      ],
      "execution_count": 9,
      "outputs": [
        {
          "output_type": "execute_result",
          "data": {
            "text/plain": [
              "False"
            ]
          },
          "metadata": {},
          "execution_count": 9
        }
      ]
    },
    {
      "cell_type": "code",
      "metadata": {
        "id": "IIvESI1X6lrp",
        "colab": {
          "base_uri": "https://localhost:8080/"
        },
        "outputId": "f7cd7349-b568-406d-c0ca-6f94b957022c"
      },
      "source": [
        "not b"
      ],
      "execution_count": 10,
      "outputs": [
        {
          "output_type": "execute_result",
          "data": {
            "text/plain": [
              "True"
            ]
          },
          "metadata": {},
          "execution_count": 10
        }
      ]
    },
    {
      "cell_type": "markdown",
      "metadata": {
        "id": "dsJcxHQxcIdd"
      },
      "source": [
        "## Operadores relacionais"
      ]
    },
    {
      "cell_type": "code",
      "metadata": {
        "id": "hV8lQ68M6osG",
        "colab": {
          "base_uri": "https://localhost:8080/"
        },
        "outputId": "8736da36-c297-4859-acf2-30e8a7c59bd0"
      },
      "source": [
        "5 > 3"
      ],
      "execution_count": 11,
      "outputs": [
        {
          "output_type": "execute_result",
          "data": {
            "text/plain": [
              "True"
            ]
          },
          "metadata": {},
          "execution_count": 11
        }
      ]
    },
    {
      "cell_type": "code",
      "metadata": {
        "id": "bnrB8kMC6ttx",
        "colab": {
          "base_uri": "https://localhost:8080/"
        },
        "outputId": "2d0f9d89-c26c-41c9-9bae-ed38cd513304"
      },
      "source": [
        "5 < 3"
      ],
      "execution_count": 12,
      "outputs": [
        {
          "output_type": "execute_result",
          "data": {
            "text/plain": [
              "False"
            ]
          },
          "metadata": {},
          "execution_count": 12
        }
      ]
    },
    {
      "cell_type": "code",
      "metadata": {
        "id": "TCupjJD86v6T",
        "colab": {
          "base_uri": "https://localhost:8080/"
        },
        "outputId": "8f7e2b57-0da0-456e-8c6e-ff53376de52e"
      },
      "source": [
        "5 >= 5"
      ],
      "execution_count": 13,
      "outputs": [
        {
          "output_type": "execute_result",
          "data": {
            "text/plain": [
              "True"
            ]
          },
          "metadata": {},
          "execution_count": 13
        }
      ]
    },
    {
      "cell_type": "code",
      "metadata": {
        "id": "HgmwL04662Pp",
        "colab": {
          "base_uri": "https://localhost:8080/"
        },
        "outputId": "5af52b63-ad57-48da-a70e-a7074f22246e"
      },
      "source": [
        "5 <= 3"
      ],
      "execution_count": 14,
      "outputs": [
        {
          "output_type": "execute_result",
          "data": {
            "text/plain": [
              "False"
            ]
          },
          "metadata": {},
          "execution_count": 14
        }
      ]
    },
    {
      "cell_type": "code",
      "metadata": {
        "id": "n5Tagg3c65wR",
        "colab": {
          "base_uri": "https://localhost:8080/"
        },
        "outputId": "8a15f56e-2bdc-4882-8256-d5309d954fa9"
      },
      "source": [
        "5 == 3"
      ],
      "execution_count": 15,
      "outputs": [
        {
          "output_type": "execute_result",
          "data": {
            "text/plain": [
              "False"
            ]
          },
          "metadata": {},
          "execution_count": 15
        }
      ]
    },
    {
      "cell_type": "code",
      "metadata": {
        "id": "1fAPptVK7Bu_",
        "colab": {
          "base_uri": "https://localhost:8080/"
        },
        "outputId": "21852211-8b6d-4701-a9ec-ab7cc81cd5f0"
      },
      "source": [
        "5 != 3"
      ],
      "execution_count": 16,
      "outputs": [
        {
          "output_type": "execute_result",
          "data": {
            "text/plain": [
              "True"
            ]
          },
          "metadata": {},
          "execution_count": 16
        }
      ]
    }
  ]
}