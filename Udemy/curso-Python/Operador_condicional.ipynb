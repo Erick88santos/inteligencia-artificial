{
  "nbformat": 4,
  "nbformat_minor": 0,
  "metadata": {
    "colab": {
      "provenance": []
    },
    "kernelspec": {
      "name": "python3",
      "display_name": "Python 3"
    }
  },
  "cells": [
    {
      "cell_type": "markdown",
      "metadata": {
        "id": "pt5Crzm9dcS-"
      },
      "source": [
        "# Operador condicional"
      ]
    },
    {
      "cell_type": "code",
      "metadata": {
        "id": "hLMwOWhm9EQH",
        "colab": {
          "base_uri": "https://localhost:8080/"
        },
        "outputId": "c1c501c5-f952-4f65-ddca-0d582407d69c"
      },
      "source": [
        "5 > 3"
      ],
      "execution_count": 7,
      "outputs": [
        {
          "output_type": "execute_result",
          "data": {
            "text/plain": [
              "True"
            ]
          },
          "metadata": {},
          "execution_count": 7
        }
      ]
    },
    {
      "cell_type": "code",
      "metadata": {
        "id": "l0Ipmn5t9UZM",
        "colab": {
          "base_uri": "https://localhost:8080/"
        },
        "outputId": "98bcca06-7408-4c96-ddd3-04a71e0c1ce2"
      },
      "source": [
        "if 5 > 3:\n",
        "  print('5 é maior que 3')\n",
        "#print('teste')"
      ],
      "execution_count": 8,
      "outputs": [
        {
          "output_type": "stream",
          "name": "stdout",
          "text": [
            "5 é maior que 3\n"
          ]
        }
      ]
    },
    {
      "cell_type": "code",
      "metadata": {
        "id": "-bnw5b_o-EXg",
        "colab": {
          "base_uri": "https://localhost:8080/"
        },
        "outputId": "21642381-e092-42a1-cf93-ee016b11af6a"
      },
      "source": [
        "if 5 > 4:\n",
        "  print('5 é maior')\n",
        "else:\n",
        "  print('5 não é maior')"
      ],
      "execution_count": 9,
      "outputs": [
        {
          "output_type": "stream",
          "name": "stdout",
          "text": [
            "5 é maior\n"
          ]
        }
      ]
    },
    {
      "cell_type": "code",
      "metadata": {
        "id": "ed6VhpYG_CPo",
        "colab": {
          "base_uri": "https://localhost:8080/"
        },
        "outputId": "7c8cdbef-281f-4fc2-ee4e-2ae604be2073"
      },
      "source": [
        "n = 9\n",
        "if n == 4:\n",
        "  print('n é igual a 4')\n",
        "else:\n",
        "  if n == 3:\n",
        "    print('n é igual a 3')\n",
        "  else:\n",
        "    print('n não é igual a 4 nem 3')"
      ],
      "execution_count": 10,
      "outputs": [
        {
          "output_type": "stream",
          "name": "stdout",
          "text": [
            "n não é igual a 4 nem 3\n"
          ]
        }
      ]
    },
    {
      "cell_type": "code",
      "metadata": {
        "id": "MXvFuxeU_jl4",
        "colab": {
          "base_uri": "https://localhost:8080/"
        },
        "outputId": "021e6627-de2e-42a9-b603-8f902f7229b7"
      },
      "source": [
        "x = 1\n",
        "y = 5\n",
        "if (x > 1) or (y % 2 == 0):\n",
        "  print('x é maior que 1 e y é par')\n",
        "else:\n",
        "  print('Uma ou nenhuma das condições foram satisfeitas')"
      ],
      "execution_count": 17,
      "outputs": [
        {
          "output_type": "stream",
          "name": "stdout",
          "text": [
            "Uma ou nenhuma das condições foram satisfeitas\n"
          ]
        }
      ]
    },
    {
      "cell_type": "code",
      "source": [],
      "metadata": {
        "id": "jtHCIhvxkUF9"
      },
      "execution_count": null,
      "outputs": []
    }
  ]
}