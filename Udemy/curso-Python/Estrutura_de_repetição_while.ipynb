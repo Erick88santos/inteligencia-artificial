{
  "nbformat": 4,
  "nbformat_minor": 0,
  "metadata": {
    "colab": {
      "provenance": []
    },
    "kernelspec": {
      "name": "python3",
      "display_name": "Python 3"
    }
  },
  "cells": [
    {
      "cell_type": "markdown",
      "metadata": {
        "id": "5hg58pyZe2oS"
      },
      "source": [
        "# Estruturas de repetição - while"
      ]
    },
    {
      "cell_type": "code",
      "metadata": {
        "id": "97oTadu-WF4t",
        "colab": {
          "base_uri": "https://localhost:8080/"
        },
        "outputId": "6c0b9981-8cc2-423a-ac4b-6ee88a03b412"
      },
      "source": [
        "numero = 1\n",
        "while numero < 6:\n",
        "  print(numero)\n",
        "  numero += 1\n",
        "print('---')"
      ],
      "execution_count": 3,
      "outputs": [
        {
          "output_type": "stream",
          "name": "stdout",
          "text": [
            "1\n",
            "2\n",
            "3\n",
            "4\n",
            "5\n",
            "---\n"
          ]
        }
      ]
    },
    {
      "cell_type": "code",
      "metadata": {
        "id": "aXkrSeO2Wvms",
        "colab": {
          "base_uri": "https://localhost:8080/"
        },
        "outputId": "65406fb7-e894-4cca-a585-338d8aecc838"
      },
      "source": [
        "numero = 5\n",
        "while numero > 0:\n",
        "  print(numero)\n",
        "  numero -= 1"
      ],
      "execution_count": 4,
      "outputs": [
        {
          "output_type": "stream",
          "name": "stdout",
          "text": [
            "5\n",
            "4\n",
            "3\n",
            "2\n",
            "1\n"
          ]
        }
      ]
    },
    {
      "cell_type": "code",
      "metadata": {
        "id": "-nIW4iunW6QQ",
        "colab": {
          "base_uri": "https://localhost:8080/"
        },
        "outputId": "b7d29d04-177b-46d3-8971-125c0430848a"
      },
      "source": [
        "1 + 2 + 3 + 4 + 5"
      ],
      "execution_count": 5,
      "outputs": [
        {
          "output_type": "execute_result",
          "data": {
            "text/plain": [
              "15"
            ]
          },
          "metadata": {},
          "execution_count": 5
        }
      ]
    },
    {
      "cell_type": "code",
      "metadata": {
        "id": "uCoU9t1wW9fG",
        "colab": {
          "base_uri": "https://localhost:8080/"
        },
        "outputId": "5f8d1471-b9a9-4dc4-d3ca-6cd92eb1f1c5"
      },
      "source": [
        "soma = 0\n",
        "numero = 1\n",
        "while numero < 6:\n",
        "  soma += numero\n",
        "  numero += 1\n",
        "print(soma)"
      ],
      "execution_count": 6,
      "outputs": [
        {
          "output_type": "stream",
          "name": "stdout",
          "text": [
            "15\n"
          ]
        }
      ]
    },
    {
      "cell_type": "code",
      "metadata": {
        "id": "b7oXoYxXXNH6",
        "colab": {
          "base_uri": "https://localhost:8080/"
        },
        "outputId": "261ae50f-a07e-4ce7-9078-f5cef4e970bc"
      },
      "source": [
        "numero = 12\n",
        "while numero < 1 or numero > 10:\n",
        "  numero = int(input('Digite um número de 1 a 10: '))"
      ],
      "execution_count": 12,
      "outputs": [
        {
          "name": "stdout",
          "output_type": "stream",
          "text": [
            "Digite um número de 1 a 10: 89\n",
            "Digite um número de 1 a 10: 25\n",
            "Digite um número de 1 a 10: 13\n",
            "Digite um número de 1 a 10: 15\n",
            "Digite um número de 1 a 10: 5\n"
          ]
        }
      ]
    }
  ]
}